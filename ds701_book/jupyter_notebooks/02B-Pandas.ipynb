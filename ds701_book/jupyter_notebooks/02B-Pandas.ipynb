{
  "cells": [
    {
      "cell_type": "markdown",
      "metadata": {
        "id": "view-in-github",
        "colab_type": "text"
      },
      "source": [
        "<a href=\"https://colab.research.google.com/github/Shravaniiii/Anxiety-detection-folder/blob/main/ds701_book/jupyter_notebooks/02B-Pandas.ipynb\" target=\"_parent\"><img src=\"https://colab.research.google.com/assets/colab-badge.svg\" alt=\"Open In Colab\"/></a>"
      ]
    },
    {
      "cell_type": "markdown",
      "metadata": {
        "id": "bFfP-TWLBD6-"
      },
      "source": [
        "---\n",
        "title: 'Essential Tools: Pandas'\n",
        "jupyter: python3\n",
        "code-fold: false\n",
        "---\n",
        "\n",
        "::: {.content-visible when-profile=\"web\"}\n",
        "## Introduction\n",
        "\n",
        "[![](https://colab.research.google.com/assets/colab-badge.svg)](https://colab.research.google.com/github/tools4ds/DS701-Course-Notes/blob/main/ds701_book/jupyter_notebooks/02B-Pandas.ipynb)\n",
        "\n",
        "In this lecture we discuss one of most useful Python packages for data\n",
        "science -- Pandas.\n",
        "\n",
        "We'll touch on some highlights here, but to learn more, start with the\n",
        "[Pandas Getting started tutorials](https://pandas.pydata.org/docs/getting_started/intro_tutorials/index.html)\n",
        ":::\n",
        "\n",
        "## Pandas\n",
        "\n",
        "::: {.incremental}\n",
        "\n",
        "- [Pandas](https://pandas.pydata.org/docs/index.html) is a Python library for data\n",
        "manipulation and analysis with an emphasis on tabular data.\n",
        "- It can be used to produce high quality plots and integrates nicely with other\n",
        "  libraries that expect NumPy arrays.\n",
        "- Knowledge and use of Pandas is essential as a data scientist.\n",
        ":::\n",
        "\n",
        ":::: {.fragment}\n",
        "The most important data structure provided by Pandas is the `DataFrame`\n",
        "implemented in the\n",
        "[DataFrame](https://pandas.pydata.org/docs/reference/frame.html) class.\n",
        "::::\n",
        "\n",
        ":::: {.fragment}\n",
        "Unlike a numpy array, a `DataFrame` can have columns of different types.\n",
        "::::\n",
        "\n",
        ":::: {.fragment}\n",
        "Make it a habit that when you're given a tabular dataset, load it into a `DataFrame`.\n",
        "::::\n",
        "\n",
        "## Fetching, storing and retrieving your data\n",
        "\n",
        "We'll work with stock data. A popular python package for this is `yfinance`, but\n",
        "there seems to be some access rate limits which make it more difficult to use.\n",
        "\n",
        "Instead we'll manually download a CSV file:\n",
        "\n",
        "    MANUAL DOWNLOAD FROM WALL STREET JOURNAL:\n",
        "    \n",
        "    1. Go to: https://www.wsj.com/market-data/quotes/NVDA/historical-prices\n",
        "    2. Set date range: January 1, 2024 to December 31, 2024\n",
        "    3. Click \"Download\" button\n",
        "    4. Save the CSV file\n",
        "    5. Load in Python:"
      ]
    },
    {
      "cell_type": "code",
      "execution_count": 1,
      "metadata": {
        "id": "J5q99p-KBD7A"
      },
      "outputs": [],
      "source": [
        "import pandas as pd\n",
        "\n",
        "try:\n",
        "    nvidia_stocks = pd.read_csv('data/stocks/nvidia_stock_2024.csv', index_col=0)\n",
        "except FileNotFoundError:\n",
        "    url = 'https://raw.githubusercontent.com/tools4ds/DS701-Course-Notes/main/ds701_book/data/stocks/nvidia_stock_2024.csv'\n",
        "    nvidia_stocks = pd.read_csv(url, index_col=0)\n",
        "\n",
        "nvidia_stocks = nvidia_stocks.sort_index()"
      ]
    },
    {
      "cell_type": "markdown",
      "metadata": {
        "id": "c_Y31Y-FBD7C"
      },
      "source": [
        "---\n",
        "\n",
        "It's important to inspect the data you are working with and Pandas provides a\n",
        "variety of methods to do so such as `.head()`, `.tail()`, `.info()`,\n",
        "`.describe()`, etc."
      ]
    },
    {
      "cell_type": "code",
      "execution_count": 3,
      "metadata": {
        "id": "CSBdUENzBD7D",
        "outputId": "9def407c-d605-41b9-b5eb-66f6609eb331",
        "colab": {
          "base_uri": "https://localhost:8080/",
          "height": 235
        }
      },
      "outputs": [
        {
          "output_type": "execute_result",
          "data": {
            "text/plain": [
              "            Open    High     Low   Close       Volume\n",
              "Date                                                 \n",
              "12/24/24  140.00  141.90  138.65  140.22  105157000.0\n",
              "12/26/24  139.70  140.85  137.73  139.93  116519102.0\n",
              "12/27/24  138.55  139.02  134.71  137.01  170582594.0\n",
              "12/30/24  134.83  140.27  134.02  137.49  167734703.0\n",
              "12/31/24  138.03  138.07  133.83  134.29  155659203.0"
            ],
            "text/html": [
              "\n",
              "  <div id=\"df-55acbfba-91b7-480f-8c7c-f2a70d14aada\" class=\"colab-df-container\">\n",
              "    <div>\n",
              "<style scoped>\n",
              "    .dataframe tbody tr th:only-of-type {\n",
              "        vertical-align: middle;\n",
              "    }\n",
              "\n",
              "    .dataframe tbody tr th {\n",
              "        vertical-align: top;\n",
              "    }\n",
              "\n",
              "    .dataframe thead th {\n",
              "        text-align: right;\n",
              "    }\n",
              "</style>\n",
              "<table border=\"1\" class=\"dataframe\">\n",
              "  <thead>\n",
              "    <tr style=\"text-align: right;\">\n",
              "      <th></th>\n",
              "      <th>Open</th>\n",
              "      <th>High</th>\n",
              "      <th>Low</th>\n",
              "      <th>Close</th>\n",
              "      <th>Volume</th>\n",
              "    </tr>\n",
              "    <tr>\n",
              "      <th>Date</th>\n",
              "      <th></th>\n",
              "      <th></th>\n",
              "      <th></th>\n",
              "      <th></th>\n",
              "      <th></th>\n",
              "    </tr>\n",
              "  </thead>\n",
              "  <tbody>\n",
              "    <tr>\n",
              "      <th>12/24/24</th>\n",
              "      <td>140.00</td>\n",
              "      <td>141.90</td>\n",
              "      <td>138.65</td>\n",
              "      <td>140.22</td>\n",
              "      <td>105157000.0</td>\n",
              "    </tr>\n",
              "    <tr>\n",
              "      <th>12/26/24</th>\n",
              "      <td>139.70</td>\n",
              "      <td>140.85</td>\n",
              "      <td>137.73</td>\n",
              "      <td>139.93</td>\n",
              "      <td>116519102.0</td>\n",
              "    </tr>\n",
              "    <tr>\n",
              "      <th>12/27/24</th>\n",
              "      <td>138.55</td>\n",
              "      <td>139.02</td>\n",
              "      <td>134.71</td>\n",
              "      <td>137.01</td>\n",
              "      <td>170582594.0</td>\n",
              "    </tr>\n",
              "    <tr>\n",
              "      <th>12/30/24</th>\n",
              "      <td>134.83</td>\n",
              "      <td>140.27</td>\n",
              "      <td>134.02</td>\n",
              "      <td>137.49</td>\n",
              "      <td>167734703.0</td>\n",
              "    </tr>\n",
              "    <tr>\n",
              "      <th>12/31/24</th>\n",
              "      <td>138.03</td>\n",
              "      <td>138.07</td>\n",
              "      <td>133.83</td>\n",
              "      <td>134.29</td>\n",
              "      <td>155659203.0</td>\n",
              "    </tr>\n",
              "  </tbody>\n",
              "</table>\n",
              "</div>\n",
              "    <div class=\"colab-df-buttons\">\n",
              "\n",
              "  <div class=\"colab-df-container\">\n",
              "    <button class=\"colab-df-convert\" onclick=\"convertToInteractive('df-55acbfba-91b7-480f-8c7c-f2a70d14aada')\"\n",
              "            title=\"Convert this dataframe to an interactive table.\"\n",
              "            style=\"display:none;\">\n",
              "\n",
              "  <svg xmlns=\"http://www.w3.org/2000/svg\" height=\"24px\" viewBox=\"0 -960 960 960\">\n",
              "    <path d=\"M120-120v-720h720v720H120Zm60-500h600v-160H180v160Zm220 220h160v-160H400v160Zm0 220h160v-160H400v160ZM180-400h160v-160H180v160Zm440 0h160v-160H620v160ZM180-180h160v-160H180v160Zm440 0h160v-160H620v160Z\"/>\n",
              "  </svg>\n",
              "    </button>\n",
              "\n",
              "  <style>\n",
              "    .colab-df-container {\n",
              "      display:flex;\n",
              "      gap: 12px;\n",
              "    }\n",
              "\n",
              "    .colab-df-convert {\n",
              "      background-color: #E8F0FE;\n",
              "      border: none;\n",
              "      border-radius: 50%;\n",
              "      cursor: pointer;\n",
              "      display: none;\n",
              "      fill: #1967D2;\n",
              "      height: 32px;\n",
              "      padding: 0 0 0 0;\n",
              "      width: 32px;\n",
              "    }\n",
              "\n",
              "    .colab-df-convert:hover {\n",
              "      background-color: #E2EBFA;\n",
              "      box-shadow: 0px 1px 2px rgba(60, 64, 67, 0.3), 0px 1px 3px 1px rgba(60, 64, 67, 0.15);\n",
              "      fill: #174EA6;\n",
              "    }\n",
              "\n",
              "    .colab-df-buttons div {\n",
              "      margin-bottom: 4px;\n",
              "    }\n",
              "\n",
              "    [theme=dark] .colab-df-convert {\n",
              "      background-color: #3B4455;\n",
              "      fill: #D2E3FC;\n",
              "    }\n",
              "\n",
              "    [theme=dark] .colab-df-convert:hover {\n",
              "      background-color: #434B5C;\n",
              "      box-shadow: 0px 1px 3px 1px rgba(0, 0, 0, 0.15);\n",
              "      filter: drop-shadow(0px 1px 2px rgba(0, 0, 0, 0.3));\n",
              "      fill: #FFFFFF;\n",
              "    }\n",
              "  </style>\n",
              "\n",
              "    <script>\n",
              "      const buttonEl =\n",
              "        document.querySelector('#df-55acbfba-91b7-480f-8c7c-f2a70d14aada button.colab-df-convert');\n",
              "      buttonEl.style.display =\n",
              "        google.colab.kernel.accessAllowed ? 'block' : 'none';\n",
              "\n",
              "      async function convertToInteractive(key) {\n",
              "        const element = document.querySelector('#df-55acbfba-91b7-480f-8c7c-f2a70d14aada');\n",
              "        const dataTable =\n",
              "          await google.colab.kernel.invokeFunction('convertToInteractive',\n",
              "                                                    [key], {});\n",
              "        if (!dataTable) return;\n",
              "\n",
              "        const docLinkHtml = 'Like what you see? Visit the ' +\n",
              "          '<a target=\"_blank\" href=https://colab.research.google.com/notebooks/data_table.ipynb>data table notebook</a>'\n",
              "          + ' to learn more about interactive tables.';\n",
              "        element.innerHTML = '';\n",
              "        dataTable['output_type'] = 'display_data';\n",
              "        await google.colab.output.renderOutput(dataTable, element);\n",
              "        const docLink = document.createElement('div');\n",
              "        docLink.innerHTML = docLinkHtml;\n",
              "        element.appendChild(docLink);\n",
              "      }\n",
              "    </script>\n",
              "  </div>\n",
              "\n",
              "\n",
              "    <div id=\"df-523ce414-9f24-4b9c-859c-2ebd358fac4e\">\n",
              "      <button class=\"colab-df-quickchart\" onclick=\"quickchart('df-523ce414-9f24-4b9c-859c-2ebd358fac4e')\"\n",
              "                title=\"Suggest charts\"\n",
              "                style=\"display:none;\">\n",
              "\n",
              "<svg xmlns=\"http://www.w3.org/2000/svg\" height=\"24px\"viewBox=\"0 0 24 24\"\n",
              "     width=\"24px\">\n",
              "    <g>\n",
              "        <path d=\"M19 3H5c-1.1 0-2 .9-2 2v14c0 1.1.9 2 2 2h14c1.1 0 2-.9 2-2V5c0-1.1-.9-2-2-2zM9 17H7v-7h2v7zm4 0h-2V7h2v10zm4 0h-2v-4h2v4z\"/>\n",
              "    </g>\n",
              "</svg>\n",
              "      </button>\n",
              "\n",
              "<style>\n",
              "  .colab-df-quickchart {\n",
              "      --bg-color: #E8F0FE;\n",
              "      --fill-color: #1967D2;\n",
              "      --hover-bg-color: #E2EBFA;\n",
              "      --hover-fill-color: #174EA6;\n",
              "      --disabled-fill-color: #AAA;\n",
              "      --disabled-bg-color: #DDD;\n",
              "  }\n",
              "\n",
              "  [theme=dark] .colab-df-quickchart {\n",
              "      --bg-color: #3B4455;\n",
              "      --fill-color: #D2E3FC;\n",
              "      --hover-bg-color: #434B5C;\n",
              "      --hover-fill-color: #FFFFFF;\n",
              "      --disabled-bg-color: #3B4455;\n",
              "      --disabled-fill-color: #666;\n",
              "  }\n",
              "\n",
              "  .colab-df-quickchart {\n",
              "    background-color: var(--bg-color);\n",
              "    border: none;\n",
              "    border-radius: 50%;\n",
              "    cursor: pointer;\n",
              "    display: none;\n",
              "    fill: var(--fill-color);\n",
              "    height: 32px;\n",
              "    padding: 0;\n",
              "    width: 32px;\n",
              "  }\n",
              "\n",
              "  .colab-df-quickchart:hover {\n",
              "    background-color: var(--hover-bg-color);\n",
              "    box-shadow: 0 1px 2px rgba(60, 64, 67, 0.3), 0 1px 3px 1px rgba(60, 64, 67, 0.15);\n",
              "    fill: var(--button-hover-fill-color);\n",
              "  }\n",
              "\n",
              "  .colab-df-quickchart-complete:disabled,\n",
              "  .colab-df-quickchart-complete:disabled:hover {\n",
              "    background-color: var(--disabled-bg-color);\n",
              "    fill: var(--disabled-fill-color);\n",
              "    box-shadow: none;\n",
              "  }\n",
              "\n",
              "  .colab-df-spinner {\n",
              "    border: 2px solid var(--fill-color);\n",
              "    border-color: transparent;\n",
              "    border-bottom-color: var(--fill-color);\n",
              "    animation:\n",
              "      spin 1s steps(1) infinite;\n",
              "  }\n",
              "\n",
              "  @keyframes spin {\n",
              "    0% {\n",
              "      border-color: transparent;\n",
              "      border-bottom-color: var(--fill-color);\n",
              "      border-left-color: var(--fill-color);\n",
              "    }\n",
              "    20% {\n",
              "      border-color: transparent;\n",
              "      border-left-color: var(--fill-color);\n",
              "      border-top-color: var(--fill-color);\n",
              "    }\n",
              "    30% {\n",
              "      border-color: transparent;\n",
              "      border-left-color: var(--fill-color);\n",
              "      border-top-color: var(--fill-color);\n",
              "      border-right-color: var(--fill-color);\n",
              "    }\n",
              "    40% {\n",
              "      border-color: transparent;\n",
              "      border-right-color: var(--fill-color);\n",
              "      border-top-color: var(--fill-color);\n",
              "    }\n",
              "    60% {\n",
              "      border-color: transparent;\n",
              "      border-right-color: var(--fill-color);\n",
              "    }\n",
              "    80% {\n",
              "      border-color: transparent;\n",
              "      border-right-color: var(--fill-color);\n",
              "      border-bottom-color: var(--fill-color);\n",
              "    }\n",
              "    90% {\n",
              "      border-color: transparent;\n",
              "      border-bottom-color: var(--fill-color);\n",
              "    }\n",
              "  }\n",
              "</style>\n",
              "\n",
              "      <script>\n",
              "        async function quickchart(key) {\n",
              "          const quickchartButtonEl =\n",
              "            document.querySelector('#' + key + ' button');\n",
              "          quickchartButtonEl.disabled = true;  // To prevent multiple clicks.\n",
              "          quickchartButtonEl.classList.add('colab-df-spinner');\n",
              "          try {\n",
              "            const charts = await google.colab.kernel.invokeFunction(\n",
              "                'suggestCharts', [key], {});\n",
              "          } catch (error) {\n",
              "            console.error('Error during call to suggestCharts:', error);\n",
              "          }\n",
              "          quickchartButtonEl.classList.remove('colab-df-spinner');\n",
              "          quickchartButtonEl.classList.add('colab-df-quickchart-complete');\n",
              "        }\n",
              "        (() => {\n",
              "          let quickchartButtonEl =\n",
              "            document.querySelector('#df-523ce414-9f24-4b9c-859c-2ebd358fac4e button');\n",
              "          quickchartButtonEl.style.display =\n",
              "            google.colab.kernel.accessAllowed ? 'block' : 'none';\n",
              "        })();\n",
              "      </script>\n",
              "    </div>\n",
              "\n",
              "    </div>\n",
              "  </div>\n"
            ],
            "application/vnd.google.colaboratory.intrinsic+json": {
              "type": "dataframe",
              "summary": "{\n  \"name\": \"nvidia_stocks\",\n  \"rows\": 5,\n  \"fields\": [\n    {\n      \"column\": \"Date\",\n      \"properties\": {\n        \"dtype\": \"object\",\n        \"num_unique_values\": 5,\n        \"samples\": [\n          \"12/26/24\",\n          \"12/31/24\",\n          \"12/27/24\"\n        ],\n        \"semantic_type\": \"\",\n        \"description\": \"\"\n      }\n    },\n    {\n      \"column\": \"Open\",\n      \"properties\": {\n        \"dtype\": \"number\",\n        \"std\": 2.061302985977552,\n        \"min\": 134.83,\n        \"max\": 140.0,\n        \"num_unique_values\": 5,\n        \"samples\": [\n          139.7,\n          138.03,\n          138.55\n        ],\n        \"semantic_type\": \"\",\n        \"description\": \"\"\n      }\n    },\n    {\n      \"column\": \"High\",\n      \"properties\": {\n        \"dtype\": \"number\",\n        \"std\": 1.5073387144235384,\n        \"min\": 138.07,\n        \"max\": 141.9,\n        \"num_unique_values\": 5,\n        \"samples\": [\n          140.85,\n          138.07,\n          139.02\n        ],\n        \"semantic_type\": \"\",\n        \"description\": \"\"\n      }\n    },\n    {\n      \"column\": \"Low\",\n      \"properties\": {\n        \"dtype\": \"number\",\n        \"std\": 2.240763262819161,\n        \"min\": 133.83,\n        \"max\": 138.65,\n        \"num_unique_values\": 5,\n        \"samples\": [\n          137.73,\n          133.83,\n          134.71\n        ],\n        \"semantic_type\": \"\",\n        \"description\": \"\"\n      }\n    },\n    {\n      \"column\": \"Close\",\n      \"properties\": {\n        \"dtype\": \"number\",\n        \"std\": 2.4203760038473408,\n        \"min\": 134.29,\n        \"max\": 140.22,\n        \"num_unique_values\": 5,\n        \"samples\": [\n          139.93,\n          134.29,\n          137.01\n        ],\n        \"semantic_type\": \"\",\n        \"description\": \"\"\n      }\n    },\n    {\n      \"column\": \"Volume\",\n      \"properties\": {\n        \"dtype\": \"number\",\n        \"std\": 30274188.159530293,\n        \"min\": 105157000.0,\n        \"max\": 170582594.0,\n        \"num_unique_values\": 5,\n        \"samples\": [\n          116519102.0,\n          155659203.0,\n          170582594.0\n        ],\n        \"semantic_type\": \"\",\n        \"description\": \"\"\n      }\n    }\n  ]\n}"
            }
          },
          "metadata": {},
          "execution_count": 3
        }
      ],
      "source": [
        "#| code-fold: false\n",
        "nvidia_stocks.tail()"
      ]
    },
    {
      "cell_type": "markdown",
      "metadata": {
        "id": "OYr9rVJzBD7D"
      },
      "source": [
        "Notice how each row has a label and each column has a label.\n",
        "\n",
        "---\n",
        "\n",
        "A DataFrame is a python object that has many associated methods to explore and\n",
        "manipulate the data.\n",
        "\n",
        "The method `.info()` gives you a description of the dataframe."
      ]
    },
    {
      "cell_type": "code",
      "execution_count": 4,
      "metadata": {
        "id": "hF_we4LGBD7E",
        "outputId": "563d3b0d-e4bc-446d-9c33-9da03c29cdb9",
        "colab": {
          "base_uri": "https://localhost:8080/"
        }
      },
      "outputs": [
        {
          "output_type": "stream",
          "name": "stdout",
          "text": [
            "<class 'pandas.core.frame.DataFrame'>\n",
            "Index: 252 entries, 01/02/24 to 12/31/24\n",
            "Data columns (total 5 columns):\n",
            " #   Column  Non-Null Count  Dtype  \n",
            "---  ------  --------------  -----  \n",
            " 0   Open    252 non-null    float64\n",
            " 1   High    252 non-null    float64\n",
            " 2   Low     252 non-null    float64\n",
            " 3   Close   252 non-null    float64\n",
            " 4   Volume  252 non-null    float64\n",
            "dtypes: float64(5)\n",
            "memory usage: 11.8+ KB\n"
          ]
        }
      ],
      "source": [
        "nvidia_stocks.info()"
      ]
    },
    {
      "cell_type": "markdown",
      "metadata": {
        "id": "oW_BcaKvBD7F"
      },
      "source": [
        "---\n",
        "\n",
        "The method `.describe()` gives you summary statistics of the dataframe."
      ]
    },
    {
      "cell_type": "code",
      "execution_count": 5,
      "metadata": {
        "id": "aEoHtEl4BD7F",
        "outputId": "e2c4cd68-7a46-458a-e87a-d523c94cce7c",
        "colab": {
          "base_uri": "https://localhost:8080/",
          "height": 297
        }
      },
      "outputs": [
        {
          "output_type": "execute_result",
          "data": {
            "text/plain": [
              "             Open        High         Low       Close        Volume\n",
              "count  252.000000  252.000000  252.000000  252.000000  2.520000e+02\n",
              "mean   107.899121  109.852719  105.631198  107.825438  3.773571e+08\n",
              "std     27.145281   27.437677   26.575767   26.957320  1.618595e+08\n",
              "min     47.485000   48.184100   47.320000   47.569000  1.051570e+08\n",
              "25%     87.740500   89.479750   86.128550   87.751500  2.498443e+08\n",
              "50%    115.950000  117.090000  111.791500  115.295000  3.508633e+08\n",
              "75%    130.282500  133.542500  128.235000  130.462500  4.752442e+08\n",
              "max    149.350000  152.890000  146.260000  148.880000  1.142269e+09"
            ],
            "text/html": [
              "\n",
              "  <div id=\"df-33545089-0acc-4df3-9f4b-504e38062b4a\" class=\"colab-df-container\">\n",
              "    <div>\n",
              "<style scoped>\n",
              "    .dataframe tbody tr th:only-of-type {\n",
              "        vertical-align: middle;\n",
              "    }\n",
              "\n",
              "    .dataframe tbody tr th {\n",
              "        vertical-align: top;\n",
              "    }\n",
              "\n",
              "    .dataframe thead th {\n",
              "        text-align: right;\n",
              "    }\n",
              "</style>\n",
              "<table border=\"1\" class=\"dataframe\">\n",
              "  <thead>\n",
              "    <tr style=\"text-align: right;\">\n",
              "      <th></th>\n",
              "      <th>Open</th>\n",
              "      <th>High</th>\n",
              "      <th>Low</th>\n",
              "      <th>Close</th>\n",
              "      <th>Volume</th>\n",
              "    </tr>\n",
              "  </thead>\n",
              "  <tbody>\n",
              "    <tr>\n",
              "      <th>count</th>\n",
              "      <td>252.000000</td>\n",
              "      <td>252.000000</td>\n",
              "      <td>252.000000</td>\n",
              "      <td>252.000000</td>\n",
              "      <td>2.520000e+02</td>\n",
              "    </tr>\n",
              "    <tr>\n",
              "      <th>mean</th>\n",
              "      <td>107.899121</td>\n",
              "      <td>109.852719</td>\n",
              "      <td>105.631198</td>\n",
              "      <td>107.825438</td>\n",
              "      <td>3.773571e+08</td>\n",
              "    </tr>\n",
              "    <tr>\n",
              "      <th>std</th>\n",
              "      <td>27.145281</td>\n",
              "      <td>27.437677</td>\n",
              "      <td>26.575767</td>\n",
              "      <td>26.957320</td>\n",
              "      <td>1.618595e+08</td>\n",
              "    </tr>\n",
              "    <tr>\n",
              "      <th>min</th>\n",
              "      <td>47.485000</td>\n",
              "      <td>48.184100</td>\n",
              "      <td>47.320000</td>\n",
              "      <td>47.569000</td>\n",
              "      <td>1.051570e+08</td>\n",
              "    </tr>\n",
              "    <tr>\n",
              "      <th>25%</th>\n",
              "      <td>87.740500</td>\n",
              "      <td>89.479750</td>\n",
              "      <td>86.128550</td>\n",
              "      <td>87.751500</td>\n",
              "      <td>2.498443e+08</td>\n",
              "    </tr>\n",
              "    <tr>\n",
              "      <th>50%</th>\n",
              "      <td>115.950000</td>\n",
              "      <td>117.090000</td>\n",
              "      <td>111.791500</td>\n",
              "      <td>115.295000</td>\n",
              "      <td>3.508633e+08</td>\n",
              "    </tr>\n",
              "    <tr>\n",
              "      <th>75%</th>\n",
              "      <td>130.282500</td>\n",
              "      <td>133.542500</td>\n",
              "      <td>128.235000</td>\n",
              "      <td>130.462500</td>\n",
              "      <td>4.752442e+08</td>\n",
              "    </tr>\n",
              "    <tr>\n",
              "      <th>max</th>\n",
              "      <td>149.350000</td>\n",
              "      <td>152.890000</td>\n",
              "      <td>146.260000</td>\n",
              "      <td>148.880000</td>\n",
              "      <td>1.142269e+09</td>\n",
              "    </tr>\n",
              "  </tbody>\n",
              "</table>\n",
              "</div>\n",
              "    <div class=\"colab-df-buttons\">\n",
              "\n",
              "  <div class=\"colab-df-container\">\n",
              "    <button class=\"colab-df-convert\" onclick=\"convertToInteractive('df-33545089-0acc-4df3-9f4b-504e38062b4a')\"\n",
              "            title=\"Convert this dataframe to an interactive table.\"\n",
              "            style=\"display:none;\">\n",
              "\n",
              "  <svg xmlns=\"http://www.w3.org/2000/svg\" height=\"24px\" viewBox=\"0 -960 960 960\">\n",
              "    <path d=\"M120-120v-720h720v720H120Zm60-500h600v-160H180v160Zm220 220h160v-160H400v160Zm0 220h160v-160H400v160ZM180-400h160v-160H180v160Zm440 0h160v-160H620v160ZM180-180h160v-160H180v160Zm440 0h160v-160H620v160Z\"/>\n",
              "  </svg>\n",
              "    </button>\n",
              "\n",
              "  <style>\n",
              "    .colab-df-container {\n",
              "      display:flex;\n",
              "      gap: 12px;\n",
              "    }\n",
              "\n",
              "    .colab-df-convert {\n",
              "      background-color: #E8F0FE;\n",
              "      border: none;\n",
              "      border-radius: 50%;\n",
              "      cursor: pointer;\n",
              "      display: none;\n",
              "      fill: #1967D2;\n",
              "      height: 32px;\n",
              "      padding: 0 0 0 0;\n",
              "      width: 32px;\n",
              "    }\n",
              "\n",
              "    .colab-df-convert:hover {\n",
              "      background-color: #E2EBFA;\n",
              "      box-shadow: 0px 1px 2px rgba(60, 64, 67, 0.3), 0px 1px 3px 1px rgba(60, 64, 67, 0.15);\n",
              "      fill: #174EA6;\n",
              "    }\n",
              "\n",
              "    .colab-df-buttons div {\n",
              "      margin-bottom: 4px;\n",
              "    }\n",
              "\n",
              "    [theme=dark] .colab-df-convert {\n",
              "      background-color: #3B4455;\n",
              "      fill: #D2E3FC;\n",
              "    }\n",
              "\n",
              "    [theme=dark] .colab-df-convert:hover {\n",
              "      background-color: #434B5C;\n",
              "      box-shadow: 0px 1px 3px 1px rgba(0, 0, 0, 0.15);\n",
              "      filter: drop-shadow(0px 1px 2px rgba(0, 0, 0, 0.3));\n",
              "      fill: #FFFFFF;\n",
              "    }\n",
              "  </style>\n",
              "\n",
              "    <script>\n",
              "      const buttonEl =\n",
              "        document.querySelector('#df-33545089-0acc-4df3-9f4b-504e38062b4a button.colab-df-convert');\n",
              "      buttonEl.style.display =\n",
              "        google.colab.kernel.accessAllowed ? 'block' : 'none';\n",
              "\n",
              "      async function convertToInteractive(key) {\n",
              "        const element = document.querySelector('#df-33545089-0acc-4df3-9f4b-504e38062b4a');\n",
              "        const dataTable =\n",
              "          await google.colab.kernel.invokeFunction('convertToInteractive',\n",
              "                                                    [key], {});\n",
              "        if (!dataTable) return;\n",
              "\n",
              "        const docLinkHtml = 'Like what you see? Visit the ' +\n",
              "          '<a target=\"_blank\" href=https://colab.research.google.com/notebooks/data_table.ipynb>data table notebook</a>'\n",
              "          + ' to learn more about interactive tables.';\n",
              "        element.innerHTML = '';\n",
              "        dataTable['output_type'] = 'display_data';\n",
              "        await google.colab.output.renderOutput(dataTable, element);\n",
              "        const docLink = document.createElement('div');\n",
              "        docLink.innerHTML = docLinkHtml;\n",
              "        element.appendChild(docLink);\n",
              "      }\n",
              "    </script>\n",
              "  </div>\n",
              "\n",
              "\n",
              "    <div id=\"df-a8acb588-0e33-49c6-9864-ce7d4d47e45a\">\n",
              "      <button class=\"colab-df-quickchart\" onclick=\"quickchart('df-a8acb588-0e33-49c6-9864-ce7d4d47e45a')\"\n",
              "                title=\"Suggest charts\"\n",
              "                style=\"display:none;\">\n",
              "\n",
              "<svg xmlns=\"http://www.w3.org/2000/svg\" height=\"24px\"viewBox=\"0 0 24 24\"\n",
              "     width=\"24px\">\n",
              "    <g>\n",
              "        <path d=\"M19 3H5c-1.1 0-2 .9-2 2v14c0 1.1.9 2 2 2h14c1.1 0 2-.9 2-2V5c0-1.1-.9-2-2-2zM9 17H7v-7h2v7zm4 0h-2V7h2v10zm4 0h-2v-4h2v4z\"/>\n",
              "    </g>\n",
              "</svg>\n",
              "      </button>\n",
              "\n",
              "<style>\n",
              "  .colab-df-quickchart {\n",
              "      --bg-color: #E8F0FE;\n",
              "      --fill-color: #1967D2;\n",
              "      --hover-bg-color: #E2EBFA;\n",
              "      --hover-fill-color: #174EA6;\n",
              "      --disabled-fill-color: #AAA;\n",
              "      --disabled-bg-color: #DDD;\n",
              "  }\n",
              "\n",
              "  [theme=dark] .colab-df-quickchart {\n",
              "      --bg-color: #3B4455;\n",
              "      --fill-color: #D2E3FC;\n",
              "      --hover-bg-color: #434B5C;\n",
              "      --hover-fill-color: #FFFFFF;\n",
              "      --disabled-bg-color: #3B4455;\n",
              "      --disabled-fill-color: #666;\n",
              "  }\n",
              "\n",
              "  .colab-df-quickchart {\n",
              "    background-color: var(--bg-color);\n",
              "    border: none;\n",
              "    border-radius: 50%;\n",
              "    cursor: pointer;\n",
              "    display: none;\n",
              "    fill: var(--fill-color);\n",
              "    height: 32px;\n",
              "    padding: 0;\n",
              "    width: 32px;\n",
              "  }\n",
              "\n",
              "  .colab-df-quickchart:hover {\n",
              "    background-color: var(--hover-bg-color);\n",
              "    box-shadow: 0 1px 2px rgba(60, 64, 67, 0.3), 0 1px 3px 1px rgba(60, 64, 67, 0.15);\n",
              "    fill: var(--button-hover-fill-color);\n",
              "  }\n",
              "\n",
              "  .colab-df-quickchart-complete:disabled,\n",
              "  .colab-df-quickchart-complete:disabled:hover {\n",
              "    background-color: var(--disabled-bg-color);\n",
              "    fill: var(--disabled-fill-color);\n",
              "    box-shadow: none;\n",
              "  }\n",
              "\n",
              "  .colab-df-spinner {\n",
              "    border: 2px solid var(--fill-color);\n",
              "    border-color: transparent;\n",
              "    border-bottom-color: var(--fill-color);\n",
              "    animation:\n",
              "      spin 1s steps(1) infinite;\n",
              "  }\n",
              "\n",
              "  @keyframes spin {\n",
              "    0% {\n",
              "      border-color: transparent;\n",
              "      border-bottom-color: var(--fill-color);\n",
              "      border-left-color: var(--fill-color);\n",
              "    }\n",
              "    20% {\n",
              "      border-color: transparent;\n",
              "      border-left-color: var(--fill-color);\n",
              "      border-top-color: var(--fill-color);\n",
              "    }\n",
              "    30% {\n",
              "      border-color: transparent;\n",
              "      border-left-color: var(--fill-color);\n",
              "      border-top-color: var(--fill-color);\n",
              "      border-right-color: var(--fill-color);\n",
              "    }\n",
              "    40% {\n",
              "      border-color: transparent;\n",
              "      border-right-color: var(--fill-color);\n",
              "      border-top-color: var(--fill-color);\n",
              "    }\n",
              "    60% {\n",
              "      border-color: transparent;\n",
              "      border-right-color: var(--fill-color);\n",
              "    }\n",
              "    80% {\n",
              "      border-color: transparent;\n",
              "      border-right-color: var(--fill-color);\n",
              "      border-bottom-color: var(--fill-color);\n",
              "    }\n",
              "    90% {\n",
              "      border-color: transparent;\n",
              "      border-bottom-color: var(--fill-color);\n",
              "    }\n",
              "  }\n",
              "</style>\n",
              "\n",
              "      <script>\n",
              "        async function quickchart(key) {\n",
              "          const quickchartButtonEl =\n",
              "            document.querySelector('#' + key + ' button');\n",
              "          quickchartButtonEl.disabled = true;  // To prevent multiple clicks.\n",
              "          quickchartButtonEl.classList.add('colab-df-spinner');\n",
              "          try {\n",
              "            const charts = await google.colab.kernel.invokeFunction(\n",
              "                'suggestCharts', [key], {});\n",
              "          } catch (error) {\n",
              "            console.error('Error during call to suggestCharts:', error);\n",
              "          }\n",
              "          quickchartButtonEl.classList.remove('colab-df-spinner');\n",
              "          quickchartButtonEl.classList.add('colab-df-quickchart-complete');\n",
              "        }\n",
              "        (() => {\n",
              "          let quickchartButtonEl =\n",
              "            document.querySelector('#df-a8acb588-0e33-49c6-9864-ce7d4d47e45a button');\n",
              "          quickchartButtonEl.style.display =\n",
              "            google.colab.kernel.accessAllowed ? 'block' : 'none';\n",
              "        })();\n",
              "      </script>\n",
              "    </div>\n",
              "\n",
              "    </div>\n",
              "  </div>\n"
            ],
            "application/vnd.google.colaboratory.intrinsic+json": {
              "type": "dataframe",
              "summary": "{\n  \"name\": \"nvidia_stocks\",\n  \"rows\": 8,\n  \"fields\": [\n    {\n      \"column\": \"Open\",\n      \"properties\": {\n        \"dtype\": \"number\",\n        \"std\": 68.9233870682864,\n        \"min\": 27.145280958500074,\n        \"max\": 252.0,\n        \"num_unique_values\": 8,\n        \"samples\": [\n          107.89912063492064,\n          115.95,\n          252.0\n        ],\n        \"semantic_type\": \"\",\n        \"description\": \"\"\n      }\n    },\n    {\n      \"column\": \"High\",\n      \"properties\": {\n        \"dtype\": \"number\",\n        \"std\": 69.02217745919481,\n        \"min\": 27.437676578343936,\n        \"max\": 252.0,\n        \"num_unique_values\": 8,\n        \"samples\": [\n          109.85271904761905,\n          117.09,\n          252.0\n        ],\n        \"semantic_type\": \"\",\n        \"description\": \"\"\n      }\n    },\n    {\n      \"column\": \"Low\",\n      \"properties\": {\n        \"dtype\": \"number\",\n        \"std\": 68.88932884399019,\n        \"min\": 26.575766933574034,\n        \"max\": 252.0,\n        \"num_unique_values\": 8,\n        \"samples\": [\n          105.63119841269841,\n          111.7915,\n          252.0\n        ],\n        \"semantic_type\": \"\",\n        \"description\": \"\"\n      }\n    },\n    {\n      \"column\": \"Close\",\n      \"properties\": {\n        \"dtype\": \"number\",\n        \"std\": 68.91724932851042,\n        \"min\": 26.95732035348885,\n        \"max\": 252.0,\n        \"num_unique_values\": 8,\n        \"samples\": [\n          107.8254384920635,\n          115.295,\n          252.0\n        ],\n        \"semantic_type\": \"\",\n        \"description\": \"\"\n      }\n    },\n    {\n      \"column\": \"Volume\",\n      \"properties\": {\n        \"dtype\": \"number\",\n        \"std\": 352847913.06270844,\n        \"min\": 252.0,\n        \"max\": 1142268968.57731,\n        \"num_unique_values\": 8,\n        \"samples\": [\n          377357073.6546545,\n          350863296.491367,\n          252.0\n        ],\n        \"semantic_type\": \"\",\n        \"description\": \"\"\n      }\n    }\n  ]\n}"
            }
          },
          "metadata": {},
          "execution_count": 5
        }
      ],
      "source": [
        "nvidia_stocks.describe()"
      ]
    },
    {
      "cell_type": "markdown",
      "metadata": {
        "id": "dozvf9HGBD7G"
      },
      "source": [
        "## Writing/Reading to/from a ``.csv`` file\n",
        "\n",
        "Pandas can read and write dataframes with many file formats such as `.csv`, `.json`, `.parquet`,\n",
        "`.xlsx`, `.html`, `SQL`, etc.\n",
        "\n",
        "Here we write the dataframe to a `.csv` file."
      ]
    },
    {
      "cell_type": "code",
      "execution_count": 7,
      "metadata": {
        "id": "oiSeqD1jBD7H"
      },
      "outputs": [],
      "source": [
        "nvidia_stocks.to_csv('nvidia_data.csv')"
      ]
    },
    {
      "cell_type": "markdown",
      "metadata": {
        "id": "zZtVj1eXBD7H"
      },
      "source": [
        "We can escape a shell command using the `!` operator to see the top of the file."
      ]
    },
    {
      "cell_type": "code",
      "execution_count": 8,
      "metadata": {
        "id": "fGNFryewBD7H",
        "outputId": "fe4bd05d-0ea3-4d90-9572-c10045654cd4",
        "colab": {
          "base_uri": "https://localhost:8080/"
        }
      },
      "outputs": [
        {
          "output_type": "stream",
          "name": "stdout",
          "text": [
            "Date,Open,High,Low,Close,Volume\n",
            "01/02/24,49.244,49.295,47.595,48.168,411254215.887458\n",
            "01/03/24,47.485,48.1841,47.32,47.569,320896186.791038\n",
            "01/04/24,47.767,48.5,47.508,47.998,306534876.934651\n",
            "01/05/24,48.462,49.547,48.306,49.097,415039295.849607\n",
            "01/08/24,49.512,52.275,49.479,52.253,642509873.574901\n",
            "01/09/24,52.401,54.325,51.69,53.14,773100072.268999\n",
            "01/10/24,53.616,54.6,53.489,54.35,533795774.662042\n",
            "01/11/24,54.999,55.346,53.56,54.822,596758784.032412\n",
            "01/12/24,54.62,54.97,54.3301,54.71,352993586.470064\n"
          ]
        }
      ],
      "source": [
        "!head nvidia_data.csv"
      ]
    },
    {
      "cell_type": "markdown",
      "metadata": {
        "id": "7iKUyT40BD7I"
      },
      "source": [
        "---\n",
        "\n",
        "And of course we can likewise read a `.csv` file into a dataframe.  This is probably the most common way you will get data into Pandas."
      ]
    },
    {
      "cell_type": "code",
      "execution_count": 9,
      "metadata": {
        "id": "pWen82nPBD7J",
        "outputId": "67c876f3-9bb2-4f40-96ab-04506873754b",
        "colab": {
          "base_uri": "https://localhost:8080/",
          "height": 204
        }
      },
      "outputs": [
        {
          "output_type": "execute_result",
          "data": {
            "text/plain": [
              "       Date    Open     High     Low   Close        Volume\n",
              "0  01/02/24  49.244  49.2950  47.595  48.168  4.112542e+08\n",
              "1  01/03/24  47.485  48.1841  47.320  47.569  3.208962e+08\n",
              "2  01/04/24  47.767  48.5000  47.508  47.998  3.065349e+08\n",
              "3  01/05/24  48.462  49.5470  48.306  49.097  4.150393e+08\n",
              "4  01/08/24  49.512  52.2750  49.479  52.253  6.425099e+08"
            ],
            "text/html": [
              "\n",
              "  <div id=\"df-ca111eba-d3d3-4e2a-b5e1-a07bcd572c58\" class=\"colab-df-container\">\n",
              "    <div>\n",
              "<style scoped>\n",
              "    .dataframe tbody tr th:only-of-type {\n",
              "        vertical-align: middle;\n",
              "    }\n",
              "\n",
              "    .dataframe tbody tr th {\n",
              "        vertical-align: top;\n",
              "    }\n",
              "\n",
              "    .dataframe thead th {\n",
              "        text-align: right;\n",
              "    }\n",
              "</style>\n",
              "<table border=\"1\" class=\"dataframe\">\n",
              "  <thead>\n",
              "    <tr style=\"text-align: right;\">\n",
              "      <th></th>\n",
              "      <th>Date</th>\n",
              "      <th>Open</th>\n",
              "      <th>High</th>\n",
              "      <th>Low</th>\n",
              "      <th>Close</th>\n",
              "      <th>Volume</th>\n",
              "    </tr>\n",
              "  </thead>\n",
              "  <tbody>\n",
              "    <tr>\n",
              "      <th>0</th>\n",
              "      <td>01/02/24</td>\n",
              "      <td>49.244</td>\n",
              "      <td>49.2950</td>\n",
              "      <td>47.595</td>\n",
              "      <td>48.168</td>\n",
              "      <td>4.112542e+08</td>\n",
              "    </tr>\n",
              "    <tr>\n",
              "      <th>1</th>\n",
              "      <td>01/03/24</td>\n",
              "      <td>47.485</td>\n",
              "      <td>48.1841</td>\n",
              "      <td>47.320</td>\n",
              "      <td>47.569</td>\n",
              "      <td>3.208962e+08</td>\n",
              "    </tr>\n",
              "    <tr>\n",
              "      <th>2</th>\n",
              "      <td>01/04/24</td>\n",
              "      <td>47.767</td>\n",
              "      <td>48.5000</td>\n",
              "      <td>47.508</td>\n",
              "      <td>47.998</td>\n",
              "      <td>3.065349e+08</td>\n",
              "    </tr>\n",
              "    <tr>\n",
              "      <th>3</th>\n",
              "      <td>01/05/24</td>\n",
              "      <td>48.462</td>\n",
              "      <td>49.5470</td>\n",
              "      <td>48.306</td>\n",
              "      <td>49.097</td>\n",
              "      <td>4.150393e+08</td>\n",
              "    </tr>\n",
              "    <tr>\n",
              "      <th>4</th>\n",
              "      <td>01/08/24</td>\n",
              "      <td>49.512</td>\n",
              "      <td>52.2750</td>\n",
              "      <td>49.479</td>\n",
              "      <td>52.253</td>\n",
              "      <td>6.425099e+08</td>\n",
              "    </tr>\n",
              "  </tbody>\n",
              "</table>\n",
              "</div>\n",
              "    <div class=\"colab-df-buttons\">\n",
              "\n",
              "  <div class=\"colab-df-container\">\n",
              "    <button class=\"colab-df-convert\" onclick=\"convertToInteractive('df-ca111eba-d3d3-4e2a-b5e1-a07bcd572c58')\"\n",
              "            title=\"Convert this dataframe to an interactive table.\"\n",
              "            style=\"display:none;\">\n",
              "\n",
              "  <svg xmlns=\"http://www.w3.org/2000/svg\" height=\"24px\" viewBox=\"0 -960 960 960\">\n",
              "    <path d=\"M120-120v-720h720v720H120Zm60-500h600v-160H180v160Zm220 220h160v-160H400v160Zm0 220h160v-160H400v160ZM180-400h160v-160H180v160Zm440 0h160v-160H620v160ZM180-180h160v-160H180v160Zm440 0h160v-160H620v160Z\"/>\n",
              "  </svg>\n",
              "    </button>\n",
              "\n",
              "  <style>\n",
              "    .colab-df-container {\n",
              "      display:flex;\n",
              "      gap: 12px;\n",
              "    }\n",
              "\n",
              "    .colab-df-convert {\n",
              "      background-color: #E8F0FE;\n",
              "      border: none;\n",
              "      border-radius: 50%;\n",
              "      cursor: pointer;\n",
              "      display: none;\n",
              "      fill: #1967D2;\n",
              "      height: 32px;\n",
              "      padding: 0 0 0 0;\n",
              "      width: 32px;\n",
              "    }\n",
              "\n",
              "    .colab-df-convert:hover {\n",
              "      background-color: #E2EBFA;\n",
              "      box-shadow: 0px 1px 2px rgba(60, 64, 67, 0.3), 0px 1px 3px 1px rgba(60, 64, 67, 0.15);\n",
              "      fill: #174EA6;\n",
              "    }\n",
              "\n",
              "    .colab-df-buttons div {\n",
              "      margin-bottom: 4px;\n",
              "    }\n",
              "\n",
              "    [theme=dark] .colab-df-convert {\n",
              "      background-color: #3B4455;\n",
              "      fill: #D2E3FC;\n",
              "    }\n",
              "\n",
              "    [theme=dark] .colab-df-convert:hover {\n",
              "      background-color: #434B5C;\n",
              "      box-shadow: 0px 1px 3px 1px rgba(0, 0, 0, 0.15);\n",
              "      filter: drop-shadow(0px 1px 2px rgba(0, 0, 0, 0.3));\n",
              "      fill: #FFFFFF;\n",
              "    }\n",
              "  </style>\n",
              "\n",
              "    <script>\n",
              "      const buttonEl =\n",
              "        document.querySelector('#df-ca111eba-d3d3-4e2a-b5e1-a07bcd572c58 button.colab-df-convert');\n",
              "      buttonEl.style.display =\n",
              "        google.colab.kernel.accessAllowed ? 'block' : 'none';\n",
              "\n",
              "      async function convertToInteractive(key) {\n",
              "        const element = document.querySelector('#df-ca111eba-d3d3-4e2a-b5e1-a07bcd572c58');\n",
              "        const dataTable =\n",
              "          await google.colab.kernel.invokeFunction('convertToInteractive',\n",
              "                                                    [key], {});\n",
              "        if (!dataTable) return;\n",
              "\n",
              "        const docLinkHtml = 'Like what you see? Visit the ' +\n",
              "          '<a target=\"_blank\" href=https://colab.research.google.com/notebooks/data_table.ipynb>data table notebook</a>'\n",
              "          + ' to learn more about interactive tables.';\n",
              "        element.innerHTML = '';\n",
              "        dataTable['output_type'] = 'display_data';\n",
              "        await google.colab.output.renderOutput(dataTable, element);\n",
              "        const docLink = document.createElement('div');\n",
              "        docLink.innerHTML = docLinkHtml;\n",
              "        element.appendChild(docLink);\n",
              "      }\n",
              "    </script>\n",
              "  </div>\n",
              "\n",
              "\n",
              "    <div id=\"df-da78f250-f17e-4fdc-bee2-06f0240f9805\">\n",
              "      <button class=\"colab-df-quickchart\" onclick=\"quickchart('df-da78f250-f17e-4fdc-bee2-06f0240f9805')\"\n",
              "                title=\"Suggest charts\"\n",
              "                style=\"display:none;\">\n",
              "\n",
              "<svg xmlns=\"http://www.w3.org/2000/svg\" height=\"24px\"viewBox=\"0 0 24 24\"\n",
              "     width=\"24px\">\n",
              "    <g>\n",
              "        <path d=\"M19 3H5c-1.1 0-2 .9-2 2v14c0 1.1.9 2 2 2h14c1.1 0 2-.9 2-2V5c0-1.1-.9-2-2-2zM9 17H7v-7h2v7zm4 0h-2V7h2v10zm4 0h-2v-4h2v4z\"/>\n",
              "    </g>\n",
              "</svg>\n",
              "      </button>\n",
              "\n",
              "<style>\n",
              "  .colab-df-quickchart {\n",
              "      --bg-color: #E8F0FE;\n",
              "      --fill-color: #1967D2;\n",
              "      --hover-bg-color: #E2EBFA;\n",
              "      --hover-fill-color: #174EA6;\n",
              "      --disabled-fill-color: #AAA;\n",
              "      --disabled-bg-color: #DDD;\n",
              "  }\n",
              "\n",
              "  [theme=dark] .colab-df-quickchart {\n",
              "      --bg-color: #3B4455;\n",
              "      --fill-color: #D2E3FC;\n",
              "      --hover-bg-color: #434B5C;\n",
              "      --hover-fill-color: #FFFFFF;\n",
              "      --disabled-bg-color: #3B4455;\n",
              "      --disabled-fill-color: #666;\n",
              "  }\n",
              "\n",
              "  .colab-df-quickchart {\n",
              "    background-color: var(--bg-color);\n",
              "    border: none;\n",
              "    border-radius: 50%;\n",
              "    cursor: pointer;\n",
              "    display: none;\n",
              "    fill: var(--fill-color);\n",
              "    height: 32px;\n",
              "    padding: 0;\n",
              "    width: 32px;\n",
              "  }\n",
              "\n",
              "  .colab-df-quickchart:hover {\n",
              "    background-color: var(--hover-bg-color);\n",
              "    box-shadow: 0 1px 2px rgba(60, 64, 67, 0.3), 0 1px 3px 1px rgba(60, 64, 67, 0.15);\n",
              "    fill: var(--button-hover-fill-color);\n",
              "  }\n",
              "\n",
              "  .colab-df-quickchart-complete:disabled,\n",
              "  .colab-df-quickchart-complete:disabled:hover {\n",
              "    background-color: var(--disabled-bg-color);\n",
              "    fill: var(--disabled-fill-color);\n",
              "    box-shadow: none;\n",
              "  }\n",
              "\n",
              "  .colab-df-spinner {\n",
              "    border: 2px solid var(--fill-color);\n",
              "    border-color: transparent;\n",
              "    border-bottom-color: var(--fill-color);\n",
              "    animation:\n",
              "      spin 1s steps(1) infinite;\n",
              "  }\n",
              "\n",
              "  @keyframes spin {\n",
              "    0% {\n",
              "      border-color: transparent;\n",
              "      border-bottom-color: var(--fill-color);\n",
              "      border-left-color: var(--fill-color);\n",
              "    }\n",
              "    20% {\n",
              "      border-color: transparent;\n",
              "      border-left-color: var(--fill-color);\n",
              "      border-top-color: var(--fill-color);\n",
              "    }\n",
              "    30% {\n",
              "      border-color: transparent;\n",
              "      border-left-color: var(--fill-color);\n",
              "      border-top-color: var(--fill-color);\n",
              "      border-right-color: var(--fill-color);\n",
              "    }\n",
              "    40% {\n",
              "      border-color: transparent;\n",
              "      border-right-color: var(--fill-color);\n",
              "      border-top-color: var(--fill-color);\n",
              "    }\n",
              "    60% {\n",
              "      border-color: transparent;\n",
              "      border-right-color: var(--fill-color);\n",
              "    }\n",
              "    80% {\n",
              "      border-color: transparent;\n",
              "      border-right-color: var(--fill-color);\n",
              "      border-bottom-color: var(--fill-color);\n",
              "    }\n",
              "    90% {\n",
              "      border-color: transparent;\n",
              "      border-bottom-color: var(--fill-color);\n",
              "    }\n",
              "  }\n",
              "</style>\n",
              "\n",
              "      <script>\n",
              "        async function quickchart(key) {\n",
              "          const quickchartButtonEl =\n",
              "            document.querySelector('#' + key + ' button');\n",
              "          quickchartButtonEl.disabled = true;  // To prevent multiple clicks.\n",
              "          quickchartButtonEl.classList.add('colab-df-spinner');\n",
              "          try {\n",
              "            const charts = await google.colab.kernel.invokeFunction(\n",
              "                'suggestCharts', [key], {});\n",
              "          } catch (error) {\n",
              "            console.error('Error during call to suggestCharts:', error);\n",
              "          }\n",
              "          quickchartButtonEl.classList.remove('colab-df-spinner');\n",
              "          quickchartButtonEl.classList.add('colab-df-quickchart-complete');\n",
              "        }\n",
              "        (() => {\n",
              "          let quickchartButtonEl =\n",
              "            document.querySelector('#df-da78f250-f17e-4fdc-bee2-06f0240f9805 button');\n",
              "          quickchartButtonEl.style.display =\n",
              "            google.colab.kernel.accessAllowed ? 'block' : 'none';\n",
              "        })();\n",
              "      </script>\n",
              "    </div>\n",
              "\n",
              "    </div>\n",
              "  </div>\n"
            ],
            "application/vnd.google.colaboratory.intrinsic+json": {
              "type": "dataframe",
              "variable_name": "df",
              "summary": "{\n  \"name\": \"df\",\n  \"rows\": 252,\n  \"fields\": [\n    {\n      \"column\": \"Date\",\n      \"properties\": {\n        \"dtype\": \"object\",\n        \"num_unique_values\": 252,\n        \"samples\": [\n          \"08/28/24\",\n          \"01/10/24\",\n          \"06/11/24\"\n        ],\n        \"semantic_type\": \"\",\n        \"description\": \"\"\n      }\n    },\n    {\n      \"column\": \"Open\",\n      \"properties\": {\n        \"dtype\": \"number\",\n        \"std\": 27.145280958500074,\n        \"min\": 47.485,\n        \"max\": 149.35,\n        \"num_unique_values\": 250,\n        \"samples\": [\n          113.69,\n          53.616,\n          93.599\n        ],\n        \"semantic_type\": \"\",\n        \"description\": \"\"\n      }\n    },\n    {\n      \"column\": \"High\",\n      \"properties\": {\n        \"dtype\": \"number\",\n        \"std\": 27.437676578343936,\n        \"min\": 48.1841,\n        \"max\": 152.89,\n        \"num_unique_values\": 251,\n        \"samples\": [\n          118.6,\n          54.6,\n          129.2\n        ],\n        \"semantic_type\": \"\",\n        \"description\": \"\"\n      }\n    },\n    {\n      \"column\": \"Low\",\n      \"properties\": {\n        \"dtype\": \"number\",\n        \"std\": 26.575766933574034,\n        \"min\": 47.32,\n        \"max\": 146.26,\n        \"num_unique_values\": 250,\n        \"samples\": [\n          111.58,\n          53.489,\n          93.18\n        ],\n        \"semantic_type\": \"\",\n        \"description\": \"\"\n      }\n    },\n    {\n      \"column\": \"Close\",\n      \"properties\": {\n        \"dtype\": \"number\",\n        \"std\": 26.95732035348885,\n        \"min\": 47.569,\n        \"max\": 148.88,\n        \"num_unique_values\": 251,\n        \"samples\": [\n          122.86,\n          54.35,\n          125.61\n        ],\n        \"semantic_type\": \"\",\n        \"description\": \"\"\n      }\n    },\n    {\n      \"column\": \"Volume\",\n      \"properties\": {\n        \"dtype\": \"number\",\n        \"std\": 161859518.33048776,\n        \"min\": 105157000.0,\n        \"max\": 1142268968.57731,\n        \"num_unique_values\": 252,\n        \"samples\": [\n          448101094.0,\n          533795774.662042,\n          222551203.0\n        ],\n        \"semantic_type\": \"\",\n        \"description\": \"\"\n      }\n    }\n  ]\n}"
            }
          },
          "metadata": {},
          "execution_count": 9
        }
      ],
      "source": [
        "df = pd.read_csv('nvidia_data.csv')\n",
        "df.head()"
      ]
    },
    {
      "cell_type": "markdown",
      "metadata": {
        "id": "2_WrU-7QBD7J"
      },
      "source": [
        "::: {.callout-caution}\n",
        "But be careful, the index column is not automatically set.\n",
        ":::"
      ]
    },
    {
      "cell_type": "code",
      "execution_count": 10,
      "metadata": {
        "id": "T8m7pErEBD7J",
        "outputId": "bf7107a9-82e7-4b1c-cd05-8f6eb8821b55",
        "colab": {
          "base_uri": "https://localhost:8080/"
        }
      },
      "outputs": [
        {
          "output_type": "stream",
          "name": "stdout",
          "text": [
            "<class 'pandas.core.frame.DataFrame'>\n",
            "RangeIndex: 252 entries, 0 to 251\n",
            "Data columns (total 6 columns):\n",
            " #   Column  Non-Null Count  Dtype  \n",
            "---  ------  --------------  -----  \n",
            " 0   Date    252 non-null    object \n",
            " 1   Open    252 non-null    float64\n",
            " 2   High    252 non-null    float64\n",
            " 3   Low     252 non-null    float64\n",
            " 4   Close   252 non-null    float64\n",
            " 5   Volume  252 non-null    float64\n",
            "dtypes: float64(5), object(1)\n",
            "memory usage: 11.9+ KB\n"
          ]
        }
      ],
      "source": [
        "df.info()"
      ]
    },
    {
      "cell_type": "markdown",
      "metadata": {
        "id": "KRyUx2g6BD7K"
      },
      "source": [
        "Note the index description.\n",
        "\n",
        "---\n",
        "\n",
        "To set the index column, we can use the `index_col` parameter."
      ]
    },
    {
      "cell_type": "code",
      "execution_count": 11,
      "metadata": {
        "id": "Q5id0zH4BD7K",
        "outputId": "f706d93c-31fa-4fae-9baf-12f0adc8d3ae",
        "colab": {
          "base_uri": "https://localhost:8080/"
        }
      },
      "outputs": [
        {
          "output_type": "stream",
          "name": "stdout",
          "text": [
            "<class 'pandas.core.frame.DataFrame'>\n",
            "Index: 252 entries, 01/02/24 to 12/31/24\n",
            "Data columns (total 5 columns):\n",
            " #   Column  Non-Null Count  Dtype  \n",
            "---  ------  --------------  -----  \n",
            " 0   Open    252 non-null    float64\n",
            " 1   High    252 non-null    float64\n",
            " 2   Low     252 non-null    float64\n",
            " 3   Close   252 non-null    float64\n",
            " 4   Volume  252 non-null    float64\n",
            "dtypes: float64(5)\n",
            "memory usage: 11.8+ KB\n"
          ]
        }
      ],
      "source": [
        "df = pd.read_csv('nvidia_data.csv', index_col=0)\n",
        "df.info()"
      ]
    },
    {
      "cell_type": "markdown",
      "metadata": {
        "id": "ed1G5mDKBD7L"
      },
      "source": [
        "## Working with data columns\n",
        "\n",
        "In general, we'll typically describe the rows in the dataframe as **items**\n",
        "(or **observations** or **data samples**) and the columns as **features**."
      ]
    },
    {
      "cell_type": "code",
      "execution_count": 12,
      "metadata": {
        "id": "evGqVDpRBD7L",
        "outputId": "88a13c88-3885-4caa-f357-9ec3823d91b6",
        "colab": {
          "base_uri": "https://localhost:8080/"
        }
      },
      "outputs": [
        {
          "output_type": "execute_result",
          "data": {
            "text/plain": [
              "Index(['Open', 'High', 'Low', 'Close', 'Volume'], dtype='object')"
            ]
          },
          "metadata": {},
          "execution_count": 12
        }
      ],
      "source": [
        "df.columns"
      ]
    },
    {
      "cell_type": "markdown",
      "metadata": {
        "id": "iS2BcthRBD7L"
      },
      "source": [
        "Pandas allows you to reference a column similar to a python dictionary key,\n",
        "using column names in square brackets."
      ]
    },
    {
      "cell_type": "code",
      "execution_count": 13,
      "metadata": {
        "id": "2dXhfmNJBD7L",
        "outputId": "1f4ca877-5313-440e-c487-27d5d8f25693",
        "colab": {
          "base_uri": "https://localhost:8080/",
          "height": 484
        }
      },
      "outputs": [
        {
          "output_type": "execute_result",
          "data": {
            "text/plain": [
              "Date\n",
              "01/02/24     49.244\n",
              "01/03/24     47.485\n",
              "01/04/24     47.767\n",
              "01/05/24     48.462\n",
              "01/08/24     49.512\n",
              "             ...   \n",
              "12/24/24    140.000\n",
              "12/26/24    139.700\n",
              "12/27/24    138.550\n",
              "12/30/24    134.830\n",
              "12/31/24    138.030\n",
              "Name: Open, Length: 252, dtype: float64"
            ],
            "text/html": [
              "<div>\n",
              "<style scoped>\n",
              "    .dataframe tbody tr th:only-of-type {\n",
              "        vertical-align: middle;\n",
              "    }\n",
              "\n",
              "    .dataframe tbody tr th {\n",
              "        vertical-align: top;\n",
              "    }\n",
              "\n",
              "    .dataframe thead th {\n",
              "        text-align: right;\n",
              "    }\n",
              "</style>\n",
              "<table border=\"1\" class=\"dataframe\">\n",
              "  <thead>\n",
              "    <tr style=\"text-align: right;\">\n",
              "      <th></th>\n",
              "      <th>Open</th>\n",
              "    </tr>\n",
              "    <tr>\n",
              "      <th>Date</th>\n",
              "      <th></th>\n",
              "    </tr>\n",
              "  </thead>\n",
              "  <tbody>\n",
              "    <tr>\n",
              "      <th>01/02/24</th>\n",
              "      <td>49.244</td>\n",
              "    </tr>\n",
              "    <tr>\n",
              "      <th>01/03/24</th>\n",
              "      <td>47.485</td>\n",
              "    </tr>\n",
              "    <tr>\n",
              "      <th>01/04/24</th>\n",
              "      <td>47.767</td>\n",
              "    </tr>\n",
              "    <tr>\n",
              "      <th>01/05/24</th>\n",
              "      <td>48.462</td>\n",
              "    </tr>\n",
              "    <tr>\n",
              "      <th>01/08/24</th>\n",
              "      <td>49.512</td>\n",
              "    </tr>\n",
              "    <tr>\n",
              "      <th>...</th>\n",
              "      <td>...</td>\n",
              "    </tr>\n",
              "    <tr>\n",
              "      <th>12/24/24</th>\n",
              "      <td>140.000</td>\n",
              "    </tr>\n",
              "    <tr>\n",
              "      <th>12/26/24</th>\n",
              "      <td>139.700</td>\n",
              "    </tr>\n",
              "    <tr>\n",
              "      <th>12/27/24</th>\n",
              "      <td>138.550</td>\n",
              "    </tr>\n",
              "    <tr>\n",
              "      <th>12/30/24</th>\n",
              "      <td>134.830</td>\n",
              "    </tr>\n",
              "    <tr>\n",
              "      <th>12/31/24</th>\n",
              "      <td>138.030</td>\n",
              "    </tr>\n",
              "  </tbody>\n",
              "</table>\n",
              "<p>252 rows × 1 columns</p>\n",
              "</div><br><label><b>dtype:</b> float64</label>"
            ]
          },
          "metadata": {},
          "execution_count": 13
        }
      ],
      "source": [
        "df['Open']"
      ]
    },
    {
      "cell_type": "markdown",
      "metadata": {
        "id": "7oOdgSUPBD7L"
      },
      "source": [
        "Note that this returns a `Series` object, the other fundamental data structure in Pandas."
      ]
    },
    {
      "cell_type": "code",
      "execution_count": null,
      "metadata": {
        "id": "LwLPi9tgBD7M"
      },
      "outputs": [],
      "source": [
        "type(df['Open'])"
      ]
    },
    {
      "cell_type": "markdown",
      "metadata": {
        "id": "4B0-3gtfBD7M"
      },
      "source": [
        "Also note that Series is indexed in this case by dates rather than simple integers.\n",
        "\n",
        "---\n",
        "\n",
        "Pandas also allows you to refer to columns using an object attribute syntax.\n",
        "\n",
        "Note that the column name cannot include a space in this case."
      ]
    },
    {
      "cell_type": "code",
      "execution_count": null,
      "metadata": {
        "id": "VBKsDzzyBD7M"
      },
      "outputs": [],
      "source": [
        "df.Open"
      ]
    },
    {
      "cell_type": "markdown",
      "metadata": {
        "id": "zvIbNVAlBD7M"
      },
      "source": [
        "---\n",
        "\n",
        "You can select a list of columns:"
      ]
    },
    {
      "cell_type": "code",
      "execution_count": null,
      "metadata": {
        "id": "J_DyBHnyBD7N"
      },
      "outputs": [],
      "source": [
        "df[['Open', 'Close']].head()"
      ]
    },
    {
      "cell_type": "markdown",
      "metadata": {
        "id": "wEhZakg0BD7N"
      },
      "source": [
        "Which is just another dataframe, which is why we can chain the `.head()` method."
      ]
    },
    {
      "cell_type": "code",
      "execution_count": null,
      "metadata": {
        "id": "EGQ2n2g3BD7N"
      },
      "outputs": [],
      "source": [
        "type(df[['Open', 'Close']])"
      ]
    },
    {
      "cell_type": "markdown",
      "metadata": {
        "id": "TdIH2o0wBD7N"
      },
      "source": [
        "---\n",
        "\n",
        "Changing column names is as simple as assigning to the `.columns` property.\n",
        "\n",
        "Let's adjust the column names to remove spaces."
      ]
    },
    {
      "cell_type": "code",
      "execution_count": null,
      "metadata": {
        "id": "cqKZmqSyBD7N"
      },
      "outputs": [],
      "source": [
        "new_column_names = [x.lower().replace(' ', '_') for x in df.columns]\n",
        "df.columns = new_column_names\n",
        "df.info()"
      ]
    },
    {
      "cell_type": "markdown",
      "metadata": {
        "id": "QopIQlK1BD7O"
      },
      "source": [
        "Observe that we first created a list of column names without spaces using __list comprehension__. This is the pythonic way to generate a new list.\n",
        "\n",
        "Now **all** columns can be accessed using the **dot** notation.\n",
        "\n",
        "\n",
        "## A sampling of DataFrame methods.\n",
        "\n",
        "There are many useful methods in the DataFrame object. It is important to\n",
        "familiarize yourself with these methods.\n",
        "\n",
        "The following methods calculate the mean, standard deviation, and median of the specified numeric columns."
      ]
    },
    {
      "cell_type": "code",
      "execution_count": null,
      "metadata": {
        "id": "Vh3QyJm9BD7O"
      },
      "outputs": [],
      "source": [
        "df.mean()"
      ]
    },
    {
      "cell_type": "markdown",
      "metadata": {
        "id": "VPYIsXckBD7O"
      },
      "source": [
        "or we can give a list of columns to the Dataframe object:"
      ]
    },
    {
      "cell_type": "code",
      "execution_count": null,
      "metadata": {
        "id": "XY3swAa0BD7P"
      },
      "outputs": [],
      "source": [
        "df[['open', 'close', 'volume']].mean()"
      ]
    },
    {
      "cell_type": "code",
      "execution_count": null,
      "metadata": {
        "id": "MpFr2hmiBD7P"
      },
      "outputs": [],
      "source": [
        "df.std()"
      ]
    },
    {
      "cell_type": "code",
      "execution_count": null,
      "metadata": {
        "id": "1mmuHEB2BD7P"
      },
      "outputs": [],
      "source": [
        "df.median()"
      ]
    },
    {
      "cell_type": "markdown",
      "metadata": {
        "id": "4HYpRB17BD7P"
      },
      "source": [
        "Or apply the method to a single column:"
      ]
    },
    {
      "cell_type": "code",
      "execution_count": null,
      "metadata": {
        "id": "O1YdNIsSBD7S"
      },
      "outputs": [],
      "source": [
        "df.open.mean()"
      ]
    },
    {
      "cell_type": "code",
      "execution_count": null,
      "metadata": {
        "id": "nQB0dj-_BD7S"
      },
      "outputs": [],
      "source": [
        "df.high.mean()"
      ]
    },
    {
      "cell_type": "markdown",
      "metadata": {
        "id": "Tu_qCDjGBD7T"
      },
      "source": [
        "## Plotting methods\n",
        "\n",
        "Pandas also wraps `matplotlib` and provides a variety of easy-to-use plotting\n",
        "functions directly from the dataframe object.\n",
        "\n",
        "These are your \"first look\" functions and useful in exploratory data analysis.\n",
        "\n",
        "Later, we will use more specialized graphics packages to create more\n",
        "sophisticated visualizations."
      ]
    },
    {
      "cell_type": "code",
      "execution_count": null,
      "metadata": {
        "id": "14XDZbk9BD7T"
      },
      "outputs": [],
      "source": [
        "import matplotlib.pyplot as plt\n",
        "\n",
        "df.high.plot(label='High')\n",
        "df.low.plot(label='Low')\n",
        "plt.title('NVIDIA Stock Price')\n",
        "plt.ylabel('Dollars')\n",
        "plt.legend(loc='best')\n",
        "plt.show()"
      ]
    },
    {
      "cell_type": "markdown",
      "metadata": {
        "id": "W4kKn2ndBD7T"
      },
      "source": [
        "---\n",
        "\n",
        "Or a histogram on the adjusted closing price."
      ]
    },
    {
      "cell_type": "code",
      "execution_count": null,
      "metadata": {
        "id": "CiCdLzUxBD7U"
      },
      "outputs": [],
      "source": [
        "df.close.hist()\n",
        "plt.xlabel('Closing Price')\n",
        "plt.ylabel('Dollars')\n",
        "plt.title('NVIDIA Stock Price')\n",
        "plt.show()"
      ]
    },
    {
      "cell_type": "markdown",
      "metadata": {
        "id": "TAWUxVpqBD7U"
      },
      "source": [
        "## Accessing rows of the DataFrame\n",
        "\n",
        "So far we've seen how to access a column of the DataFrame. To access a row we use different syntax.\n",
        "\n",
        "To access a row by its index label, use the **`.loc()`** method ('location')."
      ]
    },
    {
      "cell_type": "code",
      "execution_count": null,
      "metadata": {
        "id": "Dnq02L5TBD7V"
      },
      "outputs": [],
      "source": [
        "df.loc['01/02/24']"
      ]
    },
    {
      "cell_type": "markdown",
      "metadata": {
        "id": "qAAbH1uvBD7V"
      },
      "source": [
        "As a tangent, we can use the `.apply()` method to format the output."
      ]
    },
    {
      "cell_type": "code",
      "execution_count": null,
      "metadata": {
        "id": "bwGtXRVCBD7V"
      },
      "outputs": [],
      "source": [
        "df.loc['01/02/24'].apply(lambda x: '{:,.2f}'.format(x) if isinstance(x, (int, float)) else x)"
      ]
    },
    {
      "cell_type": "markdown",
      "metadata": {
        "id": "v-Fvf0G_BD7W"
      },
      "source": [
        "---\n",
        "\n",
        "To access a row by its index number (i.e., like an array index), use **`.iloc()`** ('integer location')"
      ]
    },
    {
      "cell_type": "code",
      "execution_count": null,
      "metadata": {
        "id": "ovKSuT2UBD7W"
      },
      "outputs": [],
      "source": [
        "df.iloc[0, :]"
      ]
    },
    {
      "cell_type": "markdown",
      "metadata": {
        "id": "Z_KJubUpBD7X"
      },
      "source": [
        "and similarly formatted:"
      ]
    },
    {
      "cell_type": "code",
      "execution_count": null,
      "metadata": {
        "id": "qit97J4xBD7X"
      },
      "outputs": [],
      "source": [
        "df.iloc[0, :].apply(lambda x: '{:,.2f}'.format(x) if isinstance(x, (int, float)) else x)"
      ]
    },
    {
      "cell_type": "markdown",
      "metadata": {
        "id": "vMLFroHIBD7Y"
      },
      "source": [
        "---\n",
        "\n",
        "To iterate over the rows you can use **`.iterrows()`**."
      ]
    },
    {
      "cell_type": "code",
      "execution_count": null,
      "metadata": {
        "id": "suM5VYbzBD7Y"
      },
      "outputs": [],
      "source": [
        "num_positive_days = 0\n",
        "for idx, row in df.iterrows():\n",
        "    if row.close > row.open:\n",
        "        num_positive_days += 1\n",
        "\n",
        "print(f\"The total number of positive-gain days is {num_positive_days} out of {len(df)} days or as percentage {num_positive_days/len(df):.2%}\")"
      ]
    },
    {
      "cell_type": "markdown",
      "metadata": {
        "id": "IkubGyg4BD7Z"
      },
      "source": [
        "::: {.callout-note}\n",
        "This is only capturing the intraday gain/loss, not the cumulative inter-day gain/loss.\n",
        ":::\n",
        "\n",
        "## Filtering\n",
        "\n",
        "It is easy to select rows from the data.  \n",
        "\n",
        "All the operations below return a new Series or DataFrame, which itself can be\n",
        "treated the same way as all Series and DataFrames we have seen so far."
      ]
    },
    {
      "cell_type": "code",
      "execution_count": null,
      "metadata": {
        "id": "IGQDN9TtBD7Z"
      },
      "outputs": [],
      "source": [
        "tmp_high = df.high > 100\n",
        "tmp_high.tail()"
      ]
    },
    {
      "cell_type": "markdown",
      "metadata": {
        "id": "SN2ou5sSBD7a"
      },
      "source": [
        "Summing a Boolean array is the same as counting the number of `True` values."
      ]
    },
    {
      "cell_type": "code",
      "execution_count": null,
      "metadata": {
        "id": "p4TpW3HJBD7b"
      },
      "outputs": [],
      "source": [
        "sum(tmp_high)"
      ]
    },
    {
      "cell_type": "markdown",
      "metadata": {
        "id": "GDQsU6O_BD7s"
      },
      "source": [
        "---\n",
        "\n",
        "Now, let's select only the rows of `df` that correspond to `tmp_high`.\n",
        "\n",
        "::: {.callout-note}\n",
        "We can pass a series to the dataframe to select rows.\n",
        ":::"
      ]
    },
    {
      "cell_type": "code",
      "execution_count": null,
      "metadata": {
        "id": "Qcx4YQryBD7s"
      },
      "outputs": [],
      "source": [
        "df[tmp_high]"
      ]
    },
    {
      "cell_type": "markdown",
      "metadata": {
        "id": "L9HClANUBD7t"
      },
      "source": [
        "---\n",
        "\n",
        "Putting it all together, we can count the number of positive days without iterating over the rows."
      ]
    },
    {
      "cell_type": "code",
      "execution_count": null,
      "metadata": {
        "id": "Hq6w8d0jBD7t"
      },
      "outputs": [],
      "source": [
        "positive_days = df[df.close > df.open]\n",
        "print(f\"Total number of positive-gain days is {len(positive_days)}\")\n",
        "positive_days.head()"
      ]
    },
    {
      "cell_type": "markdown",
      "metadata": {
        "id": "iuIqQV2-BD7t"
      },
      "source": [
        "---\n",
        "\n",
        "Or count the number of days with a gain of more than $2."
      ]
    },
    {
      "cell_type": "code",
      "execution_count": null,
      "metadata": {
        "id": "L1e9YSRyBD7u"
      },
      "outputs": [],
      "source": [
        "very_positive_days = df[(df.close - df.open) > 2]\n",
        "print(f\"Total number of days with gain > $2 is {len(very_positive_days)}\")\n",
        "very_positive_days.head()"
      ]
    },
    {
      "cell_type": "markdown",
      "metadata": {
        "id": "_i8JDXfwBD7u"
      },
      "source": [
        "Note that this doesn't the explain the total gain for the year. Why?\n",
        "\n",
        "## Creating new columns\n",
        "\n",
        "To create a new column, simply assign values to it. The column name is similar to a key in a dictionary.\n",
        "\n",
        "Let's look at the daily change in closing price."
      ]
    },
    {
      "cell_type": "code",
      "execution_count": null,
      "metadata": {
        "id": "fAHmZvDMBD7u"
      },
      "outputs": [],
      "source": [
        "# Calculate the daily change in closing price\n",
        "df['daily_change'] = df['close'].diff()\n",
        "\n",
        "# Create the cumulative profit column\n",
        "df['cum_profit'] = df['daily_change'].cumsum()\n",
        "\n",
        "# Display the first few rows to verify the new column\n",
        "print(df[['close', 'daily_change', 'cum_profit']].head())"
      ]
    },
    {
      "cell_type": "markdown",
      "metadata": {
        "id": "ecXjuYZBBD7v"
      },
      "source": [
        "It is convenient that `.diff()` by default is the difference between the current and previous row.\n",
        "\n",
        "---\n",
        "\n",
        "Let's look at the histogram of the daily change in stock price."
      ]
    },
    {
      "cell_type": "code",
      "execution_count": null,
      "metadata": {
        "id": "zAu6dkNjBD7v"
      },
      "outputs": [],
      "source": [
        "# Plot histogram of daily_change\n",
        "plt.figure(figsize=(10, 6))\n",
        "df['daily_change'].hist(bins=50, edgecolor='black')\n",
        "plt.title('Histogram of Daily Change in Stock Price')\n",
        "plt.xlabel('Daily Change')\n",
        "plt.ylabel('Frequency')\n",
        "plt.show()"
      ]
    },
    {
      "cell_type": "markdown",
      "metadata": {
        "id": "XflKeAqEBD7w"
      },
      "source": [
        "---\n",
        "\n",
        "Let's give each row a `gain` value as a categorical variable."
      ]
    },
    {
      "cell_type": "code",
      "execution_count": null,
      "metadata": {
        "id": "PkoI187vBD7w"
      },
      "outputs": [],
      "source": [
        "for idx, row in df.iterrows():\n",
        "    if row.daily_change < 0:\n",
        "        df.loc[idx,'cat_gain']='negative'\n",
        "    elif row.daily_change < 1:\n",
        "        df.loc[idx,'cat_gain']='small_gain'\n",
        "    elif row.daily_change < 2:\n",
        "        df.loc[idx,'cat_gain']='medium_gain'\n",
        "    elif row.daily_change >= 2:\n",
        "        df.loc[idx,'cat_gain']='large_gain'\n",
        "df.head()"
      ]
    },
    {
      "cell_type": "markdown",
      "metadata": {
        "id": "_ZdFxn4MBD7w"
      },
      "source": [
        "---\n",
        "\n",
        "Here is another, more \"functional\", way to accomplish the same thing.\n",
        "\n",
        "First, let's drop the gain column so we can start fresh."
      ]
    },
    {
      "cell_type": "code",
      "execution_count": null,
      "metadata": {
        "id": "YWhbdR8OBD7x"
      },
      "outputs": [],
      "source": [
        "df.drop('cat_gain', axis=1, inplace=True)\n",
        "df.head()"
      ]
    },
    {
      "cell_type": "markdown",
      "metadata": {
        "id": "qIIE6dE7BD7x"
      },
      "source": [
        "---\n",
        "\n",
        "Define a function that classifies rows, and `apply` it to each row."
      ]
    },
    {
      "cell_type": "code",
      "execution_count": null,
      "metadata": {
        "id": "DmBf4A0TBD7x"
      },
      "outputs": [],
      "source": [
        "def namerow(row):\n",
        "    if row.daily_change < 0:\n",
        "        return 'negative'\n",
        "    elif row.daily_change < 1:\n",
        "        return 'small_gain'\n",
        "    elif row.daily_change < 2:\n",
        "        return 'medium_gain'\n",
        "    elif row.daily_change >= 2:\n",
        "        return 'large_gain'\n",
        "\n",
        "df['cat_gain'] = df.apply(namerow, axis=1)\n",
        "df.head()"
      ]
    },
    {
      "cell_type": "markdown",
      "metadata": {
        "id": "sDF7Io3bBD7x"
      },
      "source": [
        "## Grouping\n",
        "\n",
        "A powerful DataFrame method is `groupby()`.\n",
        "\n",
        "This is analagous to `GROUP BY` in SQL.\n",
        "\n",
        "It will group the rows of a DataFrame by the values in one (or more) columns and let you iterate through each group.\n",
        "\n",
        "Here we will look at the average gain among the categories of gains (negative, small, medium, and large) we defined above and stored in the column `gain`."
      ]
    },
    {
      "cell_type": "code",
      "execution_count": null,
      "metadata": {
        "id": "yfvoVrONBD7y"
      },
      "outputs": [],
      "source": [
        "gain_groups = df.groupby(by='cat_gain')"
      ]
    },
    {
      "cell_type": "markdown",
      "metadata": {
        "id": "zOhmI7GiBD7y"
      },
      "source": [
        "---\n",
        "\n",
        "Essentially, `gain_groups` behaves like a dictionary:\n",
        "\n",
        "* the keys are the unique values found in the `gain` column, and\n",
        "* the values are DataFrames that contain only the rows having the corresponding unique values."
      ]
    },
    {
      "cell_type": "code",
      "execution_count": null,
      "metadata": {
        "id": "PS-94_C-BD7y"
      },
      "outputs": [],
      "source": [
        "for gain, gain_data in gain_groups:\n",
        "    print(gain)\n",
        "    print(gain_data[['close', 'daily_change']].head())\n",
        "    print('=============================')"
      ]
    },
    {
      "cell_type": "code",
      "execution_count": null,
      "metadata": {
        "id": "vBSvkzKaBD7z"
      },
      "outputs": [],
      "source": [
        "for gain, gain_data in df.groupby(\"cat_gain\"):\n",
        "    print('The average daily change for the {} group is {}'.format(gain,\n",
        "                                                           gain_data.daily_change.mean()))"
      ]
    },
    {
      "cell_type": "markdown",
      "metadata": {
        "id": "0H1sZzPCBD7z"
      },
      "source": [
        "## Other Pandas Classes\n",
        "\n",
        "A DataFrame is essentially an annotated 2-D array.\n",
        "\n",
        "Pandas also has annotated versions of 1-D and 3-D arrays.\n",
        "\n",
        "A 1-D array in Pandas is called a [Series](https://pandas.pydata.org/docs/reference/series.html).\n",
        "You can think of DataFrames as a dictionary of Series.\n",
        "\n",
        "A 3-D array in Pandas is created using a\n",
        "[MultiIndex](https://pandas.pydata.org/docs/reference/api/pandas.MultiIndex.html#).\n",
        "\n",
        "For more information read the documentation."
      ]
    },
    {
      "cell_type": "markdown",
      "metadata": {
        "id": "Lh6aoWXfBD7z"
      },
      "source": [
        "\n",
        "## In Class Activity\n",
        "\n",
        "### Iris Flower Analysis with Pandas\n",
        "**Duration:** 20-25 minutes | **Teams:** 3 students each\n",
        "\n",
        "#### Dataset: Iris Flower Dataset\n",
        "**Download Instructions:**\n",
        "The Iris dataset is built into seaborn, so no download needed!"
      ]
    },
    {
      "cell_type": "code",
      "execution_count": null,
      "metadata": {
        "id": "e4Uz_VKbBD7z"
      },
      "outputs": [],
      "source": [
        "import pandas as pd\n",
        "import seaborn as sns\n",
        "\n",
        "# Load the Iris dataset directly\n",
        "iris = sns.load_dataset('iris')"
      ]
    },
    {
      "cell_type": "markdown",
      "metadata": {
        "id": "e3CaQgfYBD70"
      },
      "source": [
        "#### Team Roles (2 minutes)\n",
        "- **Data Loader:** Loads data and explores structure\n",
        "- **Data Analyzer:** Performs calculations and filtering  \n",
        "- **Data Visualizer:** Creates plots and charts\n",
        "\n",
        "#### Activity Tasks (20 minutes)\n",
        "\n",
        "**Phase 1: Data Loading & Exploration (5 minutes)**\n",
        "1. Check the shape and column names\n",
        "2. Use `.head()`, `.info()`, and `.describe()` to explore the data"
      ]
    },
    {
      "cell_type": "code",
      "execution_count": null,
      "metadata": {
        "id": "Nm9Qy1K1BD70"
      },
      "outputs": [],
      "source": [
        "# Replace 0 and '[]' with the correct methods on iris\n",
        "print(f\"Dataset shape: {0}\")\n",
        "print(f\"Columns: {['']}\")\n",
        "\n",
        "# Look at the first few rows\n",
        "print(\"First 5 rows:\")\n",
        "\n",
        "# Get basic info about the dataset\n",
        "print(\"\\nDataset Info:\")\n",
        "\n",
        "# Describe the dataset with summary statistics\n",
        "print(\"\\nSummary Statistics:\")"
      ]
    },
    {
      "cell_type": "markdown",
      "metadata": {
        "id": "7Aj_95UCBD70"
      },
      "source": [
        "**Phase 2: Basic Data Manipulation (8 minutes)**\n",
        "1. **Create new columns:**\n",
        "   - Add a 'petal_area' column (petal_length × petal_width)\n",
        "   - Create a 'sepal_area' column (sepal_length × sepal_width)\n",
        "   - Create a 'size_category' column:\n",
        "     - 'Small' (petal_area < 2)\n",
        "     - 'Medium' (petal_area 2-5)\n",
        "     - 'Large' (petal_area > 5)"
      ]
    },
    {
      "cell_type": "code",
      "execution_count": null,
      "metadata": {
        "id": "FAasKeNwBD71"
      },
      "outputs": [],
      "source": [
        "# Create petal area column\n",
        "iris['petal_area'] = ...\n",
        "\n",
        "# Create sepal area column\n",
        "iris['sepal_area'] = ...\n",
        "\n",
        "# Create size category column\n",
        "def categorize_size(petal_area):\n",
        "    if ... :\n",
        "        return 'Small'\n",
        "    elif ... :\n",
        "        return 'Medium'\n",
        "    else:\n",
        "        return 'Large'\n",
        "\n",
        "iris['size_category'] = ...\n",
        "\n",
        "print(\"New columns created:\")\n",
        "print(iris[['petal_length', 'petal_width', 'petal_area', 'size_category']].head(10))"
      ]
    },
    {
      "cell_type": "markdown",
      "metadata": {
        "id": "FUeYkYo_BD71"
      },
      "source": [
        "2. **Data Filtering:**\n",
        "   - Find all 'setosa' species flowers\n",
        "   - Filter for large flowers only\n",
        "   - Find flowers with sepal_length > 6\n"
      ]
    },
    {
      "cell_type": "code",
      "execution_count": null,
      "metadata": {
        "id": "VuqLkmc8BD71"
      },
      "outputs": [],
      "source": [
        "# Find all 'setosa' species flowers\n",
        "setosa_flowers = ...\n",
        "print(f\"Setosa flowers: {len(setosa_flowers)} out of {len(iris)}\")\n",
        "\n",
        "# Filter for large flowers only\n",
        "large_flowers = ...\n",
        "print(f\"Large flowers: {len(large_flowers)} out of {len(iris)}\")\n",
        "\n",
        "# Find flowers with sepal_length > 6\n",
        "long_sepal = ...\n",
        "print(f\"Flowers with sepal_length > 6: {len(long_sepal)} out of {len(iris)}\")\n"
      ]
    },
    {
      "cell_type": "markdown",
      "metadata": {
        "id": "4VGJLTVpBD71"
      },
      "source": [
        "3. **Basic Analysis:**\n",
        "   - Count flowers by species\n",
        "   - Find average petal length by species"
      ]
    },
    {
      "cell_type": "code",
      "execution_count": null,
      "metadata": {
        "id": "2u6xRgpCBD72"
      },
      "outputs": [],
      "source": [
        "# Count flowers by species\n",
        "species_counts = ...\n",
        "print(\"Flowers by species:\")\n",
        "print(species_counts)\n",
        "\n",
        "# Find average petal length by species\n",
        "avg_petal_by_species = ...\n",
        "print(\"\\nAverage petal length by species:\")\n",
        "print(avg_petal_by_species)"
      ]
    },
    {
      "cell_type": "markdown",
      "metadata": {
        "id": "GMLqyoRqBD72"
      },
      "source": [
        "**Phase 3: Simple Visualizations (7 minutes)**\n",
        "1. **Create 2-3 basic plots:**\n",
        "   - Histogram of petal length\n",
        "   - Bar chart of flower count by species\n",
        "   - Scatter plot: sepal_length vs sepal_width\n"
      ]
    },
    {
      "cell_type": "code",
      "execution_count": null,
      "metadata": {
        "id": "jkVvo3npBD72"
      },
      "outputs": [],
      "source": [
        "# Create a figure with subplots\n",
        "fig, axes = plt.subplots(2, 2, figsize=(15, 10))\n",
        "\n",
        "# 1. Histogram of petal length\n",
        "axes[0, 0].hist(iris['petal_length'], bins=15, alpha=0.7, edgecolor='black', color='skyblue')\n",
        "axes[0, 0].set_title('Distribution of Petal Length')\n",
        "axes[0, 0].set_xlabel('Petal Length (cm)')\n",
        "axes[0, 0].set_ylabel('Frequency')\n",
        "axes[0, 0].grid(True, alpha=0.3)\n",
        "\n",
        "# 2. Bar chart of flower count by species\n",
        "species_counts = iris['species'].value_counts()\n",
        "species_counts.plot(kind='bar', ax=axes[0, 1], color=['red', 'green', 'blue'])\n",
        "axes[0, 1].set_title('Number of Flowers by Species')\n",
        "axes[0, 1].set_xlabel('Species')\n",
        "axes[0, 1].set_ylabel('Number of Flowers')\n",
        "axes[0, 1].tick_params(axis='x', rotation=45)\n",
        "axes[0, 1].grid(True, alpha=0.3)\n",
        "\n",
        "# 3. Scatter plot: sepal_length vs sepal_width\n",
        "for species in iris['species'].unique():\n",
        "    data = iris[iris['species'] == species]\n",
        "    axes[1, 0].scatter(data['sepal_length'], data['sepal_width'],\n",
        "                      alpha=0.7, label=species, s=50)\n",
        "axes[1, 0].set_title('Sepal Length vs Sepal Width (by Species)')\n",
        "axes[1, 0].set_xlabel('Sepal Length (cm)')\n",
        "axes[1, 0].set_ylabel('Sepal Width (cm)')\n",
        "axes[1, 0].legend()\n",
        "axes[1, 0].grid(True, alpha=0.3)\n",
        "\n",
        "# 4. Bar chart of size categories (if size_category column exists)\n",
        "if 'size_category' in iris.columns:\n",
        "    size_categories = iris['size_category'].value_counts()\n",
        "    size_categories.plot(kind='bar', ax=axes[1, 1], color=['orange', 'lightgreen', 'lightcoral'])\n",
        "    axes[1, 1].set_title('Flowers by Size Category')\n",
        "    axes[1, 1].set_xlabel('Size Category')\n",
        "    axes[1, 1].set_ylabel('Number of Flowers')\n",
        "    axes[1, 1].tick_params(axis='x', rotation=0)\n",
        "    axes[1, 1].grid(True, alpha=0.3)\n",
        "else:\n",
        "    # Alternative: petal length vs petal width scatter\n",
        "    axes[1, 1].scatter(iris['petal_length'], iris['petal_width'], alpha=0.7, s=50)\n",
        "    axes[1, 1].set_title('Petal Length vs Petal Width')\n",
        "    axes[1, 1].set_xlabel('Petal Length (cm)')\n",
        "    axes[1, 1].set_ylabel('Petal Width (cm)')\n",
        "    axes[1, 1].grid(True, alpha=0.3)\n",
        "\n",
        "plt.tight_layout()\n",
        "plt.show()"
      ]
    },
    {
      "cell_type": "markdown",
      "metadata": {
        "id": "A7n7lW99BD73"
      },
      "source": [
        "**Upon Completion:**\n",
        "\n",
        "Execute all the cells, save and download the notebook and submit to Gradescope.\n"
      ]
    },
    {
      "cell_type": "markdown",
      "metadata": {
        "id": "UQMyapqfBD73"
      },
      "source": [
        "## Recap\n",
        "\n",
        "In this section we got a first glimpse of the Pandas library.\n",
        "\n",
        "We learned how to:\n",
        "\n",
        "* load data from a CSV file\n",
        "* inspect the data\n",
        "* manipulate the data\n",
        "* plot the data\n",
        "* access rows and columns of the dataframe\n",
        "* filter the data\n",
        "* create new columns\n",
        "* group the data\n",
        "* compute the correlation between variables"
      ]
    }
  ],
  "metadata": {
    "kernelspec": {
      "display_name": "Python 3 (ipykernel)",
      "language": "python",
      "name": "python3",
      "path": "/Users/tgardos/Source/courses/ds701/DS701-Course-Notes/.venv/share/jupyter/kernels/python3"
    },
    "colab": {
      "provenance": [],
      "include_colab_link": true
    }
  },
  "nbformat": 4,
  "nbformat_minor": 0
}